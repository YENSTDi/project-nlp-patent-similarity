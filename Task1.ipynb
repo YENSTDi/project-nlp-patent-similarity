{
 "cells": [
  {
   "cell_type": "code",
   "execution_count": 1,
   "metadata": {},
   "outputs": [],
   "source": [
    "from Task1 import Task1"
   ]
  },
  {
   "cell_type": "code",
   "execution_count": 2,
   "metadata": {},
   "outputs": [
    {
     "data": {
      "text/plain": [
       "103560"
      ]
     },
     "execution_count": 2,
     "metadata": {},
     "output_type": "execute_result"
    }
   ],
   "source": [
    "a61b005_df = Task1().data\n",
    "len(a61b005_df)"
   ]
  },
  {
   "cell_type": "code",
   "execution_count": 3,
   "metadata": {},
   "outputs": [
    {
     "name": "stdout",
     "output_type": "stream",
     "text": [
      "<class 'pandas.core.frame.DataFrame'>\n",
      "RangeIndex: 103560 entries, 0 to 103559\n",
      "Data columns (total 10 columns):\n",
      " #   Column      Non-Null Count   Dtype \n",
      "---  ------      --------------   ----- \n",
      " 0   Unnamed: 0  103560 non-null  int64 \n",
      " 1   公告(開)號      103560 non-null  object\n",
      " 2   KindCode    103560 non-null  object\n",
      " 3   公告(開)日      103560 non-null  object\n",
      " 4   名稱          103560 non-null  object\n",
      " 5   申請日         103560 non-null  object\n",
      " 6   摘要          102784 non-null  object\n",
      " 7   申請範圍        102784 non-null  object\n",
      " 8   專利權人        96694 non-null   object\n",
      " 9   IPC         102784 non-null  object\n",
      "dtypes: int64(1), object(9)\n",
      "memory usage: 7.9+ MB\n"
     ]
    }
   ],
   "source": [
    "a61b005_df.info()"
   ]
  },
  {
   "cell_type": "code",
   "execution_count": 7,
   "metadata": {},
   "outputs": [
    {
     "data": {
      "text/html": [
       "<div>\n",
       "<style scoped>\n",
       "    .dataframe tbody tr th:only-of-type {\n",
       "        vertical-align: middle;\n",
       "    }\n",
       "\n",
       "    .dataframe tbody tr th {\n",
       "        vertical-align: top;\n",
       "    }\n",
       "\n",
       "    .dataframe thead th {\n",
       "        text-align: right;\n",
       "    }\n",
       "</style>\n",
       "<table border=\"1\" class=\"dataframe\">\n",
       "  <thead>\n",
       "    <tr style=\"text-align: right;\">\n",
       "      <th></th>\n",
       "      <th>Unnamed: 0</th>\n",
       "      <th>公告(開)號</th>\n",
       "      <th>KindCode</th>\n",
       "      <th>公告(開)日</th>\n",
       "      <th>名稱</th>\n",
       "      <th>申請日</th>\n",
       "      <th>摘要</th>\n",
       "      <th>申請範圍</th>\n",
       "      <th>專利權人</th>\n",
       "      <th>IPC</th>\n",
       "    </tr>\n",
       "  </thead>\n",
       "  <tbody>\n",
       "    <tr>\n",
       "      <th>0</th>\n",
       "      <td>0</td>\n",
       "      <td>US05582169</td>\n",
       "      <td>-</td>\n",
       "      <td>1996-12-10</td>\n",
       "      <td>Method and apparatus for measuring concentrati...</td>\n",
       "      <td>1994-06-08</td>\n",
       "      <td>Optical pulses emitted from an optical pulse s...</td>\n",
       "      <td>What is claimed is:\\n1.\\n1. A method of measur...</td>\n",
       "      <td>Hamamatsu Photonics K.K.</td>\n",
       "      <td>A61B005/00</td>\n",
       "    </tr>\n",
       "    <tr>\n",
       "      <th>1</th>\n",
       "      <td>1</td>\n",
       "      <td>US05582183</td>\n",
       "      <td>-</td>\n",
       "      <td>1996-12-10</td>\n",
       "      <td>Apparatus for achilles tendon reflex testing</td>\n",
       "      <td>1995-07-28</td>\n",
       "      <td>An apparatus for simultaneously causing, measu...</td>\n",
       "      <td>The embodiments of the invention in which an e...</td>\n",
       "      <td>NaN</td>\n",
       "      <td>A61B005/103</td>\n",
       "    </tr>\n",
       "    <tr>\n",
       "      <th>2</th>\n",
       "      <td>2</td>\n",
       "      <td>US05543710</td>\n",
       "      <td>-</td>\n",
       "      <td>1996-08-06</td>\n",
       "      <td>NMR conformal solenoidal coil</td>\n",
       "      <td>1994-02-22</td>\n",
       "      <td>A NMR conformal solenoidal coil includes a gen...</td>\n",
       "      <td>I claim:\\n1.\\n1. A NMR conformal solenoidal co...</td>\n",
       "      <td>Board of Regents of Univ. of NE</td>\n",
       "      <td>G01V003/00\\nG01V003/14\\nA61B005/055</td>\n",
       "    </tr>\n",
       "    <tr>\n",
       "      <th>3</th>\n",
       "      <td>3</td>\n",
       "      <td>US05507299</td>\n",
       "      <td>-</td>\n",
       "      <td>1996-04-16</td>\n",
       "      <td>Multi-vial blood collection system</td>\n",
       "      <td>1994-06-13</td>\n",
       "      <td>A blood collection system is provided for coll...</td>\n",
       "      <td>I claim:\\n1.\\n1. A blood collection system for...</td>\n",
       "      <td>NaN</td>\n",
       "      <td>A61B005/00</td>\n",
       "    </tr>\n",
       "    <tr>\n",
       "      <th>4</th>\n",
       "      <td>4</td>\n",
       "      <td>US05582168</td>\n",
       "      <td>-</td>\n",
       "      <td>1996-12-10</td>\n",
       "      <td>Apparatus and methods for measuring characteri...</td>\n",
       "      <td>1993-01-22</td>\n",
       "      <td>Apparatus and methods for characterizing biolo...</td>\n",
       "      <td>We claim:\\n1.\\n1. An apparatus for determining...</td>\n",
       "      <td>Georgia Tech Research Corp.</td>\n",
       "      <td>A61B005/00</td>\n",
       "    </tr>\n",
       "  </tbody>\n",
       "</table>\n",
       "</div>"
      ],
      "text/plain": [
       "   Unnamed: 0      公告(開)號 KindCode      公告(開)日  \\\n",
       "0           0  US05582169        -  1996-12-10   \n",
       "1           1  US05582183        -  1996-12-10   \n",
       "2           2  US05543710        -  1996-08-06   \n",
       "3           3  US05507299        -  1996-04-16   \n",
       "4           4  US05582168        -  1996-12-10   \n",
       "\n",
       "                                                  名稱         申請日  \\\n",
       "0  Method and apparatus for measuring concentrati...  1994-06-08   \n",
       "1       Apparatus for achilles tendon reflex testing  1995-07-28   \n",
       "2                      NMR conformal solenoidal coil  1994-02-22   \n",
       "3                 Multi-vial blood collection system  1994-06-13   \n",
       "4  Apparatus and methods for measuring characteri...  1993-01-22   \n",
       "\n",
       "                                                  摘要  \\\n",
       "0  Optical pulses emitted from an optical pulse s...   \n",
       "1  An apparatus for simultaneously causing, measu...   \n",
       "2  A NMR conformal solenoidal coil includes a gen...   \n",
       "3  A blood collection system is provided for coll...   \n",
       "4  Apparatus and methods for characterizing biolo...   \n",
       "\n",
       "                                                申請範圍  \\\n",
       "0  What is claimed is:\\n1.\\n1. A method of measur...   \n",
       "1  The embodiments of the invention in which an e...   \n",
       "2  I claim:\\n1.\\n1. A NMR conformal solenoidal co...   \n",
       "3  I claim:\\n1.\\n1. A blood collection system for...   \n",
       "4  We claim:\\n1.\\n1. An apparatus for determining...   \n",
       "\n",
       "                              專利權人                                  IPC  \n",
       "0         Hamamatsu Photonics K.K.                           A61B005/00  \n",
       "1                              NaN                          A61B005/103  \n",
       "2  Board of Regents of Univ. of NE  G01V003/00\\nG01V003/14\\nA61B005/055  \n",
       "3                              NaN                           A61B005/00  \n",
       "4      Georgia Tech Research Corp.                           A61B005/00  "
      ]
     },
     "execution_count": 7,
     "metadata": {},
     "output_type": "execute_result"
    }
   ],
   "source": [
    "a61b005_df.head()"
   ]
  },
  {
   "cell_type": "code",
   "execution_count": 16,
   "metadata": {},
   "outputs": [
    {
     "data": {
      "text/plain": [
       "103560"
      ]
     },
     "execution_count": 16,
     "metadata": {},
     "output_type": "execute_result"
    }
   ],
   "source": [
    "# df = a61b005_df[a61b005_df['專利權人'].notna()]\n",
    "# len(df)\n",
    "\n",
    "df = a61b005_df.fillna('')\n",
    "len(df)"
   ]
  },
  {
   "cell_type": "code",
   "execution_count": 19,
   "metadata": {},
   "outputs": [],
   "source": [
    "counts = df.value_counts(subset='專利權人').reset_index().rename({0:'專利數量'},axis=1)"
   ]
  },
  {
   "cell_type": "code",
   "execution_count": 20,
   "metadata": {},
   "outputs": [
    {
     "data": {
      "text/html": [
       "<div>\n",
       "<style scoped>\n",
       "    .dataframe tbody tr th:only-of-type {\n",
       "        vertical-align: middle;\n",
       "    }\n",
       "\n",
       "    .dataframe tbody tr th {\n",
       "        vertical-align: top;\n",
       "    }\n",
       "\n",
       "    .dataframe thead th {\n",
       "        text-align: right;\n",
       "    }\n",
       "</style>\n",
       "<table border=\"1\" class=\"dataframe\">\n",
       "  <thead>\n",
       "    <tr style=\"text-align: right;\">\n",
       "      <th></th>\n",
       "      <th>專利權人</th>\n",
       "      <th>專利數量</th>\n",
       "    </tr>\n",
       "  </thead>\n",
       "  <tbody>\n",
       "    <tr>\n",
       "      <th>0</th>\n",
       "      <td>-</td>\n",
       "      <td>9372</td>\n",
       "    </tr>\n",
       "    <tr>\n",
       "      <th>1</th>\n",
       "      <td></td>\n",
       "      <td>6866</td>\n",
       "    </tr>\n",
       "    <tr>\n",
       "      <th>2</th>\n",
       "      <td>Medtronic, Inc.</td>\n",
       "      <td>1953</td>\n",
       "    </tr>\n",
       "    <tr>\n",
       "      <th>3</th>\n",
       "      <td>Cardiac Pacemakers, Inc.</td>\n",
       "      <td>1453</td>\n",
       "    </tr>\n",
       "    <tr>\n",
       "      <th>4</th>\n",
       "      <td>Siemens Aktiengesellschaft</td>\n",
       "      <td>1271</td>\n",
       "    </tr>\n",
       "    <tr>\n",
       "      <th>...</th>\n",
       "      <td>...</td>\n",
       "      <td>...</td>\n",
       "    </tr>\n",
       "    <tr>\n",
       "      <th>17947</th>\n",
       "      <td>ELC MANAGEMENT LLC</td>\n",
       "      <td>1</td>\n",
       "    </tr>\n",
       "    <tr>\n",
       "      <th>17948</th>\n",
       "      <td>OLYMPUS CORPORATION\\nBRAIN FUNCTIONS LABORATOR...</td>\n",
       "      <td>1</td>\n",
       "    </tr>\n",
       "    <tr>\n",
       "      <th>17949</th>\n",
       "      <td>OLYMPUS CORPORATION\\nOLYMPUS MEDICAL SYSTEMS C...</td>\n",
       "      <td>1</td>\n",
       "    </tr>\n",
       "    <tr>\n",
       "      <th>17950</th>\n",
       "      <td>ELBIT SYSTEMS LAND AND C4I LTD</td>\n",
       "      <td>1</td>\n",
       "    </tr>\n",
       "    <tr>\n",
       "      <th>17951</th>\n",
       "      <td>RION Co., Ltd.</td>\n",
       "      <td>1</td>\n",
       "    </tr>\n",
       "  </tbody>\n",
       "</table>\n",
       "<p>17952 rows × 2 columns</p>\n",
       "</div>"
      ],
      "text/plain": [
       "                                                    專利權人  專利數量\n",
       "0                                                      -  9372\n",
       "1                                                         6866\n",
       "2                                        Medtronic, Inc.  1953\n",
       "3                               Cardiac Pacemakers, Inc.  1453\n",
       "4                             Siemens Aktiengesellschaft  1271\n",
       "...                                                  ...   ...\n",
       "17947                                 ELC MANAGEMENT LLC     1\n",
       "17948  OLYMPUS CORPORATION\\nBRAIN FUNCTIONS LABORATOR...     1\n",
       "17949  OLYMPUS CORPORATION\\nOLYMPUS MEDICAL SYSTEMS C...     1\n",
       "17950                     ELBIT SYSTEMS LAND AND C4I LTD     1\n",
       "17951                                     RION Co., Ltd.     1\n",
       "\n",
       "[17952 rows x 2 columns]"
      ]
     },
     "execution_count": 20,
     "metadata": {},
     "output_type": "execute_result"
    }
   ],
   "source": [
    "counts"
   ]
  }
 ],
 "metadata": {
  "kernelspec": {
   "display_name": "nlp-patent",
   "language": "python",
   "name": "python3"
  },
  "language_info": {
   "codemirror_mode": {
    "name": "ipython",
    "version": 3
   },
   "file_extension": ".py",
   "mimetype": "text/x-python",
   "name": "python",
   "nbconvert_exporter": "python",
   "pygments_lexer": "ipython3",
   "version": "3.9.16"
  },
  "orig_nbformat": 4,
  "vscode": {
   "interpreter": {
    "hash": "6853375e564c37824efdcef3c11c03dbd91d1b40beaeaacb52099dd57446684d"
   }
  }
 },
 "nbformat": 4,
 "nbformat_minor": 2
}
