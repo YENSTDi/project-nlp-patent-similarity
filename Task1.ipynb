{
 "cells": [
  {
   "cell_type": "code",
   "execution_count": 1,
   "metadata": {},
   "outputs": [
    {
     "name": "stderr",
     "output_type": "stream",
     "text": [
      "c:\\Users\\cglog\\miniconda3\\envs\\torch\\lib\\site-packages\\bs4\\builder\\__init__.py:546: XMLParsedAsHTMLWarning: It looks like you're parsing an XML document using an HTML parser. If this really is an HTML document (maybe it's XHTML?), you can ignore or filter this warning. If it's XML, you should know that using an XML parser will be more reliable. To parse this document as XML, make sure you have the lxml package installed, and pass the keyword argument `features=\"xml\"` into the BeautifulSoup constructor.\n",
      "  XMLParsedAsHTMLWarning.MESSAGE, XMLParsedAsHTMLWarning\n"
     ]
    }
   ],
   "source": [
    "from bs4 import BeautifulSoup\n",
    "import pandas as pd\n",
    "\n",
    "apple_file = \"./data-2/apple/Apple_Full text.XML\"\n",
    "\n",
    "with open(apple_file, 'r') as f:\n",
    "    data = f.read()\n",
    "\n",
    "soup = BeautifulSoup(data, \"html.parser\")\n",
    "apple_case = soup.findAll(\"doc\")\n",
    "result = []\n",
    "for i in apple_case:\n",
    "    uid = i.find(\"uuid\").text\n",
    "    content1 = i.find(\"str\", {\"name\": \"權利要求\"})\n",
    "    content2 = i.find(\"str\", {\"name\": \"說明書\"})\n",
    "    content3 = i.find(\"str\", {\"name\": \"公開(公告)號\"})\n",
    "\n",
    "    content1 = content1.text if content1 is not None else \"\"\n",
    "    content2 = content2.text if content2 is not None else \"\"\n",
    "    content3 = content3.text if content3 is not None else \"\"\n",
    "\n",
    "    tmp_df = pd.DataFrame({\n",
    "        \"uid\": [uid],\n",
    "        \"公開號\": [content3],\n",
    "        \"content\": [content1+\" \"+content2]\n",
    "    })\n",
    "    result.append(tmp_df)\n",
    "\n",
    "result = pd.concat(result)\n",
    "# result.to_excel(self.apple_data, index=False)"
   ]
  },
  {
   "cell_type": "code",
   "execution_count": 2,
   "metadata": {},
   "outputs": [
    {
     "data": {
      "text/html": [
       "<div>\n",
       "<style scoped>\n",
       "    .dataframe tbody tr th:only-of-type {\n",
       "        vertical-align: middle;\n",
       "    }\n",
       "\n",
       "    .dataframe tbody tr th {\n",
       "        vertical-align: top;\n",
       "    }\n",
       "\n",
       "    .dataframe thead th {\n",
       "        text-align: right;\n",
       "    }\n",
       "</style>\n",
       "<table border=\"1\" class=\"dataframe\">\n",
       "  <thead>\n",
       "    <tr style=\"text-align: right;\">\n",
       "      <th></th>\n",
       "      <th>uid</th>\n",
       "      <th>公開號</th>\n",
       "      <th>content</th>\n",
       "    </tr>\n",
       "  </thead>\n",
       "  <tbody>\n",
       "    <tr>\n",
       "      <th>0</th>\n",
       "      <td>9cf5edf8-532c-443c-9881-8b415d5efa54</td>\n",
       "      <td>US9668676B2</td>\n",
       "      <td>1. A method of an electronic device including ...</td>\n",
       "    </tr>\n",
       "    <tr>\n",
       "      <th>0</th>\n",
       "      <td>f894d5f0-874c-47fe-b212-b901d0e188ea</td>\n",
       "      <td>US10517489B2</td>\n",
       "      <td>1. A method for determining a pressure of bloo...</td>\n",
       "    </tr>\n",
       "    <tr>\n",
       "      <th>0</th>\n",
       "      <td>eef31886-7293-4a41-98ca-10729319249b</td>\n",
       "      <td>US10620232B2</td>\n",
       "      <td>1. A method comprising:\\nreceiving, by a weara...</td>\n",
       "    </tr>\n",
       "  </tbody>\n",
       "</table>\n",
       "</div>"
      ],
      "text/plain": [
       "                                    uid           公開號  \\\n",
       "0  9cf5edf8-532c-443c-9881-8b415d5efa54   US9668676B2   \n",
       "0  f894d5f0-874c-47fe-b212-b901d0e188ea  US10517489B2   \n",
       "0  eef31886-7293-4a41-98ca-10729319249b  US10620232B2   \n",
       "\n",
       "                                             content  \n",
       "0  1. A method of an electronic device including ...  \n",
       "0  1. A method for determining a pressure of bloo...  \n",
       "0  1. A method comprising:\\nreceiving, by a weara...  "
      ]
     },
     "execution_count": 2,
     "metadata": {},
     "output_type": "execute_result"
    }
   ],
   "source": [
    "result.head(3)"
   ]
  },
  {
   "cell_type": "code",
   "execution_count": 3,
   "metadata": {},
   "outputs": [],
   "source": [
    "result.to_excel(\"./data-2/apple.xlsx\", index=False)"
   ]
  },
  {
   "cell_type": "code",
   "execution_count": null,
   "metadata": {},
   "outputs": [],
   "source": []
  },
  {
   "cell_type": "code",
   "execution_count": null,
   "metadata": {},
   "outputs": [],
   "source": []
  },
  {
   "cell_type": "code",
   "execution_count": null,
   "metadata": {},
   "outputs": [],
   "source": [
    "from Task1 import Data\n",
    "\n",
    "data_info = {\n",
    "    \"other_data\": \"./data-2/other.xlsx\",\n",
    "    \"other_folder\": \"./data-2/other/*\",\n",
    "    \"apple_data\": \"./蘋果專利.xlsx\",\n",
    "    \"apple_file\": \"./data-2/apple/Apple_Full text.XML\",\n",
    "}\n",
    "\n",
    "apple_df = Data(**data_info).apple()\n",
    "other_df = Data(**data_info).other()\n",
    "\n",
    "len(apple_df), len(other_df)"
   ]
  },
  {
   "cell_type": "code",
   "execution_count": null,
   "metadata": {},
   "outputs": [],
   "source": [
    "apple_df.info()"
   ]
  },
  {
   "cell_type": "code",
   "execution_count": 2,
   "metadata": {},
   "outputs": [
    {
     "name": "stdout",
     "output_type": "stream",
     "text": [
      "<class 'pandas.core.frame.DataFrame'>\n",
      "Int64Index: 60729 entries, 0 to 65277\n",
      "Data columns (total 19 columns):\n",
      " #   Column                        Non-Null Count  Dtype \n",
      "---  ------                        --------------  ----- \n",
      " 0   Country Code                  60729 non-null  object\n",
      " 1   Granted Number                60729 non-null  object\n",
      " 2   Examined Pub. Number          60729 non-null  object\n",
      " 3   Unexamined Pub. Number        60729 non-null  object\n",
      " 4   Kind Code                     60729 non-null  object\n",
      " 5   Application Number            60729 non-null  object\n",
      " 6   Application Date              60729 non-null  object\n",
      " 7   Unexamined Pub. Date          60729 non-null  object\n",
      " 8   Examined Pub. Date            60729 non-null  object\n",
      " 9   Status[US,JP,KR,CN,EP,CA,AU]  60729 non-null  object\n",
      " 10  Applicant                     60729 non-null  object\n",
      " 11  Orig. IPC(All)                60729 non-null  object\n",
      " 12  Curr. IPC(All)                60729 non-null  object\n",
      " 13  Title                         60729 non-null  object\n",
      " 14  Abstract                      60729 non-null  object\n",
      " 15  All Claims[JP,KR,CN]          60729 non-null  object\n",
      " 16  WIPSGLOBAL KEY                60729 non-null  int64 \n",
      " 17  Applicant_verify              60729 non-null  object\n",
      " 18  Applicant Id                  60729 non-null  int64 \n",
      "dtypes: int64(2), object(17)\n",
      "memory usage: 9.3+ MB\n"
     ]
    }
   ],
   "source": [
    "other_df.info()"
   ]
  },
  {
   "attachments": {},
   "cell_type": "markdown",
   "metadata": {},
   "source": [
    "# 公司歸屬"
   ]
  },
  {
   "cell_type": "code",
   "execution_count": null,
   "metadata": {},
   "outputs": [],
   "source": [
    "## 驗證\n",
    "import re\n",
    "def company_v(company:str):\n",
    "    company = re.sub(r\"[^a-zA-Z0-9]\", \"\", company)\n",
    "    company = company.capitalize()\n",
    "    return company\n",
    "other_df['company_verify'] = other_df['Applicant'].map(company_v)"
   ]
  },
  {
   "cell_type": "code",
   "execution_count": 10,
   "metadata": {},
   "outputs": [
    {
     "name": "stderr",
     "output_type": "stream",
     "text": [
      "100%|██████████| 60729/60729 [02:20<00:00, 432.87it/s]\n"
     ]
    }
   ],
   "source": [
    "from tqdm import tqdm\n",
    "Applicant_set  = other_df['Applicant_verify'].unique()\n",
    "associate_code = {}\n",
    "for i in tqdm(other_df['Applicant_verify']):\n",
    "    for i2 in Applicant_set:\n",
    "        if i in i2:\n",
    "            if associate_code.get(i) is None:\n",
    "                associate_code[i] = [i2]\n",
    "            else:\n",
    "                associate_code[i].extend([i2])"
   ]
  },
  {
   "cell_type": "code",
   "execution_count": 15,
   "metadata": {},
   "outputs": [],
   "source": [
    "for k in associate_code.keys():\n",
    "    associate_code[k] = list(set(associate_code[k]))"
   ]
  },
  {
   "cell_type": "code",
   "execution_count": 18,
   "metadata": {},
   "outputs": [],
   "source": [
    "associate_code\n",
    "new_applicant_code = {index: k for index, k in enumerate(associate_code.keys())}"
   ]
  },
  {
   "cell_type": "code",
   "execution_count": 21,
   "metadata": {},
   "outputs": [],
   "source": [
    "for applicant_code, applicant_name in new_applicant_code.items():\n",
    "    new_applicant_code[applicant_code] = [applicant_name]\n",
    "    new_applicant_code[applicant_code].extend(associate_code[applicant_name])"
   ]
  },
  {
   "cell_type": "code",
   "execution_count": 23,
   "metadata": {},
   "outputs": [],
   "source": [
    "def give_new_applicant_id(applicant_verify):\n",
    "    for code, name in new_applicant_code.items():\n",
    "        if applicant_verify in name:\n",
    "            return code\n",
    "    return -1\n",
    "\n",
    "other_df['new_applicant_id'] = other_df['Applicant_verify'].map(give_new_applicant_id)"
   ]
  },
  {
   "cell_type": "code",
   "execution_count": 42,
   "metadata": {},
   "outputs": [],
   "source": [
    "other_df_process_company_count = other_df.groupby(by=['new_applicant_id', 'Applicant']).count().reset_index().loc[:,[\"new_applicant_id\", \"Applicant\", \"Country Code\"]].rename({\"Country Code\": \"count\"}, axis=1)\n",
    "other_df_process_company_count = other_df_process_company_count.sort_values(by=['new_applicant_id', 'count'])\n",
    "other_df_process_company_count.to_excel(\"公司專利數量(特殊處理).xlsx\")"
   ]
  },
  {
   "cell_type": "code",
   "execution_count": 49,
   "metadata": {},
   "outputs": [],
   "source": [
    "other_df.drop(labels=['Applicant Id', 'Applicant_verify'], axis=1).to_excel(\"./公司專利(公司名已處理).xlsx\")"
   ]
  },
  {
   "attachments": {},
   "cell_type": "markdown",
   "metadata": {},
   "source": [
    "# 數據驗證"
   ]
  },
  {
   "cell_type": "code",
   "execution_count": 1,
   "metadata": {},
   "outputs": [
    {
     "data": {
      "text/plain": [
       "352"
      ]
     },
     "execution_count": 1,
     "metadata": {},
     "output_type": "execute_result"
    }
   ],
   "source": [
    "import pandas as pd\n",
    "\n",
    "apple_df = pd.read_excel(\"./data-2/apple.xlsx\")\n",
    "len(apple_df)"
   ]
  },
  {
   "cell_type": "code",
   "execution_count": 2,
   "metadata": {},
   "outputs": [
    {
     "data": {
      "text/html": [
       "<div>\n",
       "<style scoped>\n",
       "    .dataframe tbody tr th:only-of-type {\n",
       "        vertical-align: middle;\n",
       "    }\n",
       "\n",
       "    .dataframe tbody tr th {\n",
       "        vertical-align: top;\n",
       "    }\n",
       "\n",
       "    .dataframe thead th {\n",
       "        text-align: right;\n",
       "    }\n",
       "</style>\n",
       "<table border=\"1\" class=\"dataframe\">\n",
       "  <thead>\n",
       "    <tr style=\"text-align: right;\">\n",
       "      <th></th>\n",
       "      <th>uid</th>\n",
       "      <th>content</th>\n",
       "    </tr>\n",
       "  </thead>\n",
       "  <tbody>\n",
       "    <tr>\n",
       "      <th>0</th>\n",
       "      <td>9cf5edf8-532c-443c-9881-8b415d5efa54</td>\n",
       "      <td>1. A method of an electronic device including ...</td>\n",
       "    </tr>\n",
       "    <tr>\n",
       "      <th>1</th>\n",
       "      <td>f894d5f0-874c-47fe-b212-b901d0e188ea</td>\n",
       "      <td>1. A method for determining a pressure of bloo...</td>\n",
       "    </tr>\n",
       "    <tr>\n",
       "      <th>2</th>\n",
       "      <td>eef31886-7293-4a41-98ca-10729319249b</td>\n",
       "      <td>1. A method comprising:\\nreceiving, by a weara...</td>\n",
       "    </tr>\n",
       "    <tr>\n",
       "      <th>3</th>\n",
       "      <td>a2ba1eea-1d7f-40db-bfd2-2bede2ba31a8</td>\n",
       "      <td>1. A method of adjusting a fit of a watch band...</td>\n",
       "    </tr>\n",
       "    <tr>\n",
       "      <th>4</th>\n",
       "      <td>2da9069d-8d4e-4ca8-bd85-61e2f55f52a6</td>\n",
       "      <td>1. A method comprising:\\nreceiving, into one o...</td>\n",
       "    </tr>\n",
       "  </tbody>\n",
       "</table>\n",
       "</div>"
      ],
      "text/plain": [
       "                                    uid  \\\n",
       "0  9cf5edf8-532c-443c-9881-8b415d5efa54   \n",
       "1  f894d5f0-874c-47fe-b212-b901d0e188ea   \n",
       "2  eef31886-7293-4a41-98ca-10729319249b   \n",
       "3  a2ba1eea-1d7f-40db-bfd2-2bede2ba31a8   \n",
       "4  2da9069d-8d4e-4ca8-bd85-61e2f55f52a6   \n",
       "\n",
       "                                             content  \n",
       "0  1. A method of an electronic device including ...  \n",
       "1  1. A method for determining a pressure of bloo...  \n",
       "2  1. A method comprising:\\nreceiving, by a weara...  \n",
       "3  1. A method of adjusting a fit of a watch band...  \n",
       "4  1. A method comprising:\\nreceiving, into one o...  "
      ]
     },
     "execution_count": 2,
     "metadata": {},
     "output_type": "execute_result"
    }
   ],
   "source": [
    "apple_df.head()"
   ]
  },
  {
   "cell_type": "code",
   "execution_count": 3,
   "metadata": {},
   "outputs": [
    {
     "name": "stderr",
     "output_type": "stream",
     "text": [
      "Downloading (…)lve/main/config.json: 100%|██████████| 327/327 [00:00<00:00, 59.2kB/s]\n",
      "c:\\Users\\cglog\\miniconda3\\envs\\project_similar\\lib\\site-packages\\huggingface_hub\\file_download.py:133: UserWarning: `huggingface_hub` cache-system uses symlinks by default to efficiently store duplicated files but your machine does not support them in C:\\Users\\cglog\\.cache\\huggingface\\hub. Caching files will still work but in a degraded version that might require more space on your disk. This warning can be disabled by setting the `HF_HUB_DISABLE_SYMLINKS_WARNING` environment variable. For more details, see https://huggingface.co/docs/huggingface_hub/how-to-cache#limitations.\n",
      "To support symlinks on Windows, you either need to activate Developer Mode or to run Python as an administrator. In order to see activate developer mode, see this article: https://docs.microsoft.com/en-us/windows/apps/get-started/enable-your-device-for-development\n",
      "  warnings.warn(message)\n",
      "Downloading (…)solve/main/vocab.txt: 100%|██████████| 329k/329k [00:01<00:00, 319kB/s]\n"
     ]
    }
   ],
   "source": [
    "from transformers import AutoTokenizer\n",
    "\n",
    "tokenizer = AutoTokenizer.from_pretrained(\"anferico/bert-for-patents\")"
   ]
  },
  {
   "cell_type": "code",
   "execution_count": 5,
   "metadata": {},
   "outputs": [
    {
     "data": {
      "text/plain": [
       "6321"
      ]
     },
     "execution_count": 5,
     "metadata": {},
     "output_type": "execute_result"
    }
   ],
   "source": [
    "len(tokenizer.encode(apple_df.content.iloc[0]))"
   ]
  },
  {
   "cell_type": "code",
   "execution_count": 8,
   "metadata": {},
   "outputs": [
    {
     "name": "stderr",
     "output_type": "stream",
     "text": [
      "Downloading pytorch_model.bin: 100%|██████████| 1.38G/1.38G [01:32<00:00, 15.0MB/s]\n",
      "Some weights of the model checkpoint at anferico/bert-for-patents were not used when initializing BertModel: ['cls.seq_relationship.bias', 'cls.predictions.transform.dense.bias', 'cls.predictions.transform.LayerNorm.bias', 'cls.predictions.decoder.weight', 'cls.predictions.transform.dense.weight', 'cls.predictions.bias', 'cls.predictions.decoder.bias', 'cls.predictions.transform.LayerNorm.weight', 'cls.seq_relationship.weight']\n",
      "- This IS expected if you are initializing BertModel from the checkpoint of a model trained on another task or with another architecture (e.g. initializing a BertForSequenceClassification model from a BertForPreTraining model).\n",
      "- This IS NOT expected if you are initializing BertModel from the checkpoint of a model that you expect to be exactly identical (initializing a BertForSequenceClassification model from a BertForSequenceClassification model).\n"
     ]
    }
   ],
   "source": [
    "from PatentModel import PatentModel\n",
    "\n",
    "model = PatentModel(use_gpu=False)"
   ]
  },
  {
   "cell_type": "code",
   "execution_count": 9,
   "metadata": {},
   "outputs": [],
   "source": [
    "emb = model.embedding_by_concat(apple_df.content.iloc[0])"
   ]
  },
  {
   "cell_type": "code",
   "execution_count": 10,
   "metadata": {},
   "outputs": [
    {
     "data": {
      "text/plain": [
       "(1024,)"
      ]
     },
     "execution_count": 10,
     "metadata": {},
     "output_type": "execute_result"
    }
   ],
   "source": [
    "emb.shape"
   ]
  },
  {
   "cell_type": "code",
   "execution_count": 7,
   "metadata": {},
   "outputs": [
    {
     "data": {
      "text/plain": [
       "\"1. A method of an electronic device including a plurality of light sensors and light emitters, the method comprising:\\nreceiving first light information at a first light sensor co-located with a first light emitter of at least a first wavelength, the first light information based on a reflection of light emitted by the first light emitter, wherein receiving the first light information includes receiving a plurality of first light information data points over a plurality of collection times;\\nreceiving second light information at a second light sensor co-located with a second light emitter of at least a second wavelength, different from the first wavelength, the second light information based on a reflection of light emitted by the second light emitter, the second light sensor and the second light emitter separate and distinct from the first light sensor and the first light emitter, respectively,\\nwherein receiving the second light information includes receiving a plurality of second light information data points over the plurality of collection times;\\nfor each of the plurality of collection times, associating the first information with the collection time to the second information associated with the collection time;\\ngenerating a scatterplot using the associations of the first information to the second information with the collection time;\\ncomparing the generated scatterplot to a stored scatterplot;\\ndetermining one or more physical characteristics of a vasculature of a user based on the comparison; and\\nidentifying the user of the electronic device based on the one or more physical characteristics of the vasculature.\\n2. The method of claim 1, further comprising:\\nreceiving motion information of the electronic device;\\nbased on the motion information, determining a gesture of the electronic device performed during a first time period; and\\nbased on the determination of the gesture, selecting the first and second light information received during the first time period for use in identifying the user of the electronic device.\\n3. The method of claim 2, wherein identifying the user of the electronic device based on the first and second light information includes comparing the first and second light information to stored light information associated with the gesture.\\n4. The method of claim 2, further comprising:\\ndetermining the first time period based on the determination of the gesture, wherein selecting the first and second light information received during the first time period is based on the determination of the first time period.\\n5. The method of claim 1, further comprising:\\ncomparing the first and second light information to stored light information associated with a user identity; and\\ndetermining that the first and second light information matches the stored light information based on the comparison;\\nwherein identifying the user of the electronic device includes identifying the user as having the user identity based on the determination that the first and second light information matches the stored light information associated with the user identity.\\n6. The method of claim 1, wherein identifying the user of the electronic device includes determining that the user of the electronic device does not have an identity authorized to use the device.\\n7. The method of claim 1, further comprising:\\nreceiving motion information of the electronic device from one or more motion sensors;\\nbased on the motion information, determining a gesture of the electronic device performed during a time period;\\ndetermining an initiation time and a finish time included in the time period of the gesture; and\\nstoring the light information in association with the gesture and the identity of the user of the electronic device.\\n8. The method of claim 1, wherein identifying the user includes comparing the scatterplot to a stored light information.\\n9. The method of claim 1, wherein comparing the scatterplot to the stored light information includes matching a pattern of the scatterplot to a pattern of the stored light information.\\n10. The method of claim 1, wherein the one or more physical characteristics includes a percentage of oxygenated blood in the user.\\n11. The method of claim 1, wherein the one or more physical characteristics includes a volume of blood present in a skin of the user.\\n12. The method of claim 1, further comprising:\\ncomparing the identified user to a user identity; and\\nallowing the user to access one or more features of the electronic device when the identified user matches the user identity.\\n13. The method of claim 1, wherein comparing the generated scatterplot to the stored scatterplot includes comparing a shape of the generated scatterplot to a shape of the stored scatterplot.\\n14. An electronic device, comprising:\\na first light emitter configured to emit at least a first wavelength;\\na second light emitter configured to emit at least a second wavelength;\\na first light sensor co-located with the first light emitter and configured to detect a reflection of light emitted by the first light emitter;\\na second light sensor co-located with the second light emitter and configured to detect a reflection of light emitted by the second light emitter; and\\na processor configured to:\\nreceive first light information from the first light sensor including receiving a plurality of first light information data points over a plurality of collection times;\\nreceive second light information at the second light sensor including receiving a plurality of second light information data points over a plurality of collection times;\\nfor each of the plurality of collection times, associating the first information with the collection time to the second information associated with the collection time;\\ngenerating a scatterplot using the associations of the first information to the second information with the collection time;\\ncomparing the generated scatterplot to a stored scatterplot;\\ndetermine one or more physical characteristics of a vasculature of a user based on the comparison; and\\nidentify a user of the electronic device based on the physical characteristics of the vasculature.\\n15. The electronic device of claim 14, further comprising:\\na mechanical sensor configured to receive motion information of the electronic device, wherein the processor is further configured to:\\ndetermine a gesture of the electronic device performed during a first time period based on the motion information, and\\nselect the first and second light information received during the first time period for use in identifying the user of the electronic device based on the determined gesture.\\n16. The electronic device of claim 15, wherein the processor is further configured to: compare the first and second light information to stored light information associated with the determined gesture.\\n17. The electronic device of claim 15, wherein the processor is further configured to:\\ndetermine the first time period based on the determination of the gesture, wherein selecting the first and second light information received during the first time period is based on the determination of the first time period.\\n18. The electronic device of claim 14, wherein the processor is further configured to:\\ncompare the first and second light information to stored light information associated with a user identity; and\\ndetermine whether the first and second light information match the stored light information based on the comparison,\\nwherein identifying the user of the electronic device includes identifying the user as having the user identity based on the determination that the first and second light information matches the stored light information associated with the user identity.\\n19. The electronic device of claim 14, wherein the mechanical sensor is one or more of an accelerometer, a gyroscope, an altimeter, a barometer, and a global positioning system.\\n20. The electronic device of claim 14, wherein one or more of the first light emitter and second light emitter are configured to emit one or more of infrared, green, amber, blue, and red light. CROSS-REFERENCE TO RELATED APPLICATION\\n[0001]This application is a National Phase application under 35 U.S.C. §371 of International Application No. PCT/US2013/078379, filed Dec. 30, 2013, the content of which is hereby incorporated by reference in its entirety for all intended purposes.\\nFIELD OF THE DISCLOSURE\\n[0002]This relates generally to biometric identification.\\nBACKGROUND OF THE DISCLOSURE\\n[0003]A light emitter and light sensor pair can be used to determine one or more characteristics of a user's vasculature. For example, a pulse oximeter employs a light emitter and a light sensor to measure the percentage of oxygenated blood in a subject.\\nSUMMARY OF THE DISCLOSURE\\n[0004]In examples of the present disclosure, light emitters and light sensors can be used to perform biometric identification of a user based on identifying characteristics of the user's vasculature. For example, light information can be obtained at one or more light sensors, and the information can be compared to stored information associated with a user identity. Based on the comparison, the user of the device can be identified as having the user identity.\\nBRIEF DESCRIPTION OF THE DRAWINGS\\n[0005]FIG. 1 illustrates an electronic device that performs biometric identification according to examples of the disclosure.\\n[0006]FIG. 2A illustrates a scatterplot showing light absorption by a first light sensor versus light absorption by a second light sensor over a period of time where the user may be stationary according to examples of the disclosure.\\n[0007]FIG. 2B illustrates a scatterplot showing light absorption by a first light sensor versus light absorption by a second light sensor over a period of time where the user may be moving according to examples of the disclosure.\\n[0008]FIG. 3 illustrates an exemplary method of identifying a user of an electronic device based on light information according to examples of the disclosure.\\n[0009]FIG. 4 illustrates an exemplary method of identifying a user of an electronic device based on light information and motion information according to examples of the disclosure.\\n[0010]FIG. 5 illustrates a method of storing identifying light information to be used in identification of a user at a later time according to examples of the disclosure.\\n[0011]FIG. 6 is a block diagram illustrating an exemplary API architecture, which may be used in some examples of the disclosure.\\n[0012]FIG. 7 illustrates an exemplary software stack of an API according to examples of the disclosure.\\n[0013]FIG. 8 is a block diagram illustrating exemplary interactions between the touch screen and other components of the device according to examples of the disclosure.\\n[0014]FIG. 9 is a block diagram illustrating an example of a system architecture that may be embodied within any portable or non-portable device according to examples of the disclosure.\\nDETAILED DESCRIPTION\\n[0015]In the following description of examples, reference is made to the accompanying drawings which form a part hereof, and in which it is shown by way of illustration specific examples that can be practiced. It is to be understood that other examples can be used and structural changes can be made without departing from the scope of the disclosed examples.\\n[0016]A light emitter and light sensor pair can be used to determine one or more characteristics of a user's vasculature. For example, a pulse oximeter employs a light emitter and a light sensor to measure the percentage of oxygenated blood in a subject. In examples of the present disclosure, light emitters and light sensors can be used to perform biometric identification of a user based on identifying characteristics of the user's vasculature. For example, light information can be obtained at one or more light sensors, and the information can be compared to stored information associated with a user identity. Based on the comparison, the user of the device can be identified as having the user identity.\\n[0017]Although examples disclosed herein may be described and illustrated herein primarily in terms of an emitter/sensor pair for each wavelength, it should be understood that the examples are not so limited, but are additionally applicable to a single emitter that can emit more than one wavelength and/or a single sensor that can sense more than one wavelength. Additionally, examples may identify a user based on any number of wavelengths, and not just two wavelengths as described herein.\\n[0018]FIG. 1 illustrates an electronic device 100 that performs biometric identification according to examples of the disclosure. A first light emitter 102 and a first light sensor 104 may be co-located on the electronic device. The first light emitter 102 may emit light at a first wavelength λ1. A second light emitter 106 and a second light sensor 108 may be co-located on the electronic device. The second light emitter 106 may emit light at a second wavelength λ2. During use, the electronic device may be situated proximate to the skin 110 of a user. For example, the electronic device may be strapped to the user's wrist. Each light emitter may emit light towards the user's skin such that a portion of the light is absorbed by the skin, the blood, and/or other parts of the user's body, and an additional portion of the light is reflected back to the co-located light sensor. The light sensor may generate information indicating an amount of light reflected. Such information can be used to determine how much of the light emitted by a co-located light emitter is absorbed by the blood of the user, which can further indicate the volume of blood present in the skin of the user. The volume of blood present in the skin can be a function of several factors, including the cyclical movement of blood to and from the skin and the particular physical characteristics of the vasculature of a user, among other possibilities.\\n[0019]FIG. 2A illustrates a scatterplot showing light absorption by the first light sensor (λ1) versus light absorption by the second light sensor (λ2) over a period of time where the user may be stationary. The light absorption may vary between minimum and maximum values for each wavelength, and the relationship between the absorption of each wavelength may be linear. The shape of the scatterplot may be determined by the cyclical perfusion of blood to the skin of the user and also the physical properties of the user's body, such as the configuration of the vasculature at the skin. Accordingly, the shape of such a scatterplot may vary from user to user. Additionally, the general shape of the scatterplot may be reproducible for a given user if the electronic device is placed at or near the same region of the user's skin. In this way, biometric identification of a user may be possible by comparing the scatterplot to a stored scatterplot for the user using image and/or pattern matching techniques and classification known in the art.\\n[0020]FIG. 2B illustrates a scatterplot showing light absorption by the first light sensor (λ1) versus light absorption by the second light sensor (λ2) over a period of time where the user may be moving. Movement may cause the vasculature of the skin to expand and contract, which can affect light absorption in each wavelength differently, as shown in FIG. 2B. Moreover, the variation from user to user can be more pronounced than in the case where the user remains stationary. Here, the general shape of the scatterplot may be reproducible for a given user if the electronic device is placed at or near the same region of the user's skin and if the user moves in the same way. Accordingly, additional sensors of the electronic device may be used to determine that a user has moved the electronic device in a certain way and/or to determine that the user has performed a motion gesture during a time period. Then, the light absorption information received during the time period may be compared to stored light absorption information to perform biometric identification of the user.\\n[0021]FIG. 3 illustrates an exemplary method of identifying a user of an electronic device based on light information. First light information may be received at a first light sensor (300). The first light sensor may be co-located with a first light emitter, as illustrated in FIG. 1. In some examples, the first light emitter may emit light at a first wavelength, the light may travel to the skin of a user, and a portion of the light may reflect to the first light sensor. Accordingly, the first light information may indicate an amount of light of the first wavelength that has been reflected by the skin, blood, and/or vasculature of the user, among other possibilities. In some examples, the first light information may indicate an amount of light of the first wavelength that has been absorbed by the skin, blood, and/or vasculature of the user. Similarly, second light information may be received at a second light sensor (302). The second light sensor may be co-located with a second light emitter, and the second light emitter may emit light at a second wavelength, different from the first wavelength.\\n[0022]The light emitters may produce light in ranges corresponding to infrared (IR), green, amber, blue, and/or red light, among other possibilities. Additionally, the light sensors may be configured to sense light having certain wavelengths more powerfully than light having other wavelengths. For example, if the first light emitter emits light having a wavelength in the IR range, then the first light sensor may be configured to sense light in the IR range more powerfully than light in the green range. That is, the incidence of light in the IR range may produce a stronger response in the first light sensor than the incidence of light in the green range. In this way, the first light sensor can be configured so as to sense the light produced by the first light emitter more powerfully than the light produced by the second light emitter, for example.\\n[0023]In some examples, a light emitter may be a light emitting diode (LED) and a light sensor may be a photodiode. The light information may include information produced by the photodiode. For example, the light information may include a voltage reading that corresponds to light absorbed by the photodiode. In some examples, the light information may include some transformation of raw data produced by the photodiode.\\n[0024]A user of the electronic device may be identified based on the first and second light information (304). In some examples, the first and second light information may be compared to stored light information associated with a user identity. The received light information may be determined to match the stored light information, and based on the determination the user of the electronic device may be identified as having the user identity.\\n[0025]In some examples, the first and second light information may be arranged in a scatterplot. That is, data points of the first and second light information may be paired based on the collection times of the data points, each data point of the first light information being paired with a data point of the second light information. Examples of such scatterplots are illustrated in FIGS. 2A and 2B. A scatterplot of received light information may be compared to a stored scatterplot of light information using image and/or pattern matching techniques known in the art. A determination that the received light information is similar to the stored light information may be based on such a comparison.\\n[0026]FIG. 4 illustrates an exemplary method of identifying a user of an electronic device based on light information and motion information. Motion information and first and second light information may be received during a first time period (400, 404, 406). Motion information may be received from one or more sensors of the electronic device, such as an accelerometer, gyroscope, altimeter, barometer, Global Positioning System (GPS), and/or magnetometer, among other possibilities. Such motion may be produced by the movement of a user of the electronic device. For example, the electronic device may be held in the user's hand or strapped to the user's wrist, among other possibilities, and the movements of the user's body can thereby cause movement of the electronic device.\\n[0027]A gesture and a first time period of the gesture may be determined based on the motion information (402). Stored gesture information and/or one or more heuristics may be used to determine a gesture from the motion information. For example, motion information may indicate that the user rapidly moved a hand from her waist to the side of her head, and such a motion can be recognized as a gesture. More specifically, the gesture may be recognized as a gesture associated with the identification process. Additionally, the first time period of the identification gesture may be determined. That is, once the gesture is recognized from the motion information, an initiation time and a finish time of the gesture can be determined.\\n[0028]The first and second light information received during the first time period may be selected based on the determination of the gesture and the first time period of the gesture (408). Once the gesture is recognized and the time period of the gesture is determined, the first and second light information received during that time period may be selected for use in identifying the user (410) as described above.\\n[0029]FIG. 5 illustrates a method of storing identifying light information to be used in identification of a user at a later time. Motion information and light information may be received during a first time period (500, 502). A gesture may be determined from the motion information (504). Then, the light information may be stored in association with the determined identifying gesture and an identity of a user of the electronic device. This stored light information may be used to later identify the user of the electronic device as described above with reference to FIGS. 3 and 4.\\n[0030]In some examples, the identification of a user may be used to enable one or more features of the electronic device. For example, the electronic device may allow a user to access banking information if the user has been properly identified. Additionally or alternatively, identifying a user of the electronic device can include determining that the current user of the electronic device does not have an identity authorized to use the device. For example, the received light information may be compared to stored identifying light information associated with a user identity, and it may be determined that the received light information is not a match. As a result, access to the device may be disabled and/or contents of the device may be deleted. In such a case, the electronic device may not determine a user identity of the user of the device; rather, the electronic device may determine that the user of the device does not have an identity authorized to use the device. This can also be used for automatic user switching. The device may switch to a new mode, user interface (UI), and/or data, depending on which user is identified. It can also be used for enhanced security for peripheral units. For example, an additional electronic device may be associated, connected (wirelessly or otherwise), and/or paired with the electronic device, and the additional electronic device can be configured to only operate if the electronic device with biometric information is present and the identity of the authorized user is currently detected.\\n[0031]The examples discussed above can be implemented in one or more Application Programming Interfaces (APIs). An API is an interface implemented by a program code component or hardware component (hereinafter “API-implementing component”) that allows a different program code component or hardware component (hereinafter “API-calling component”) to access and use one or more functions, methods, procedures, data structures, classes, and/or other services provided by the API-implementing component. An API can define one or more parameters that are passed between the API-calling component and the API-implementing component.\\n[0032]The above-described features can be implemented as part of an application program interface (API) that can allow it to be incorporated into different applications (e.g., spreadsheet apps) utilizing touch input as an input mechanism. An API can allow a developer of an API-calling component (which may be a third party developer) to leverage specified features, such as those described above, provided by an API-implementing component. There may be one API-calling component or there may be more than one such component. An API can be a source code interface that a computer system or program library provides in order to support requests for services from an application. An operating system (OS) can have multiple APIs to allow applications running on the OS to call one or more of those APIs, and a service (such as a program library) can have multiple APIs to allow an application that uses the service to call one or more of those APIs. An API can be specified in terms of a programming language that can be interpreted or compiled when an application is built.\\n[0033]In some examples, the API-implementing component may provide more than one API, each providing a different view of the functionality implemented by the API-implementing component, or with different aspects that access different aspects of the functionality implemented by the API-implementing component. For example, one API of an API-implementing component can provide a first set of functions and can be exposed to third party developers, and another API of the API-implementing component can be hidden (not exposed) and provide a subset of the first set of functions and also provide another set of functions, such as testing or debugging functions which are not in the first set of functions. In other examples the API-implementing component may itself call one or more other components via an underlying API and thus be both an API-calling component and an API-implementing component.\\n[0034]An API defines the language and parameters that API-calling components use when accessing and using specified features of the API-implementing component. For example, an API-calling component accesses the specified features of the API-implementing component through one or more API calls or invocations (embodied for example by function or method calls) exposed by the API and passes data and control information using parameters via the API calls or invocations. The API-implementing component may return a value through the API in response to an API call from an API-calling component. While the API defines the syntax and result of an API call (e.g., how to invoke the API call and what the API call does), the API may not reveal how the API call accomplishes the function specified by the API call. Various API calls are transferred via the one or more application programming interfaces between the calling (API-calling component) and an API-implementing component. Transferring the API calls may include issuing, initiating, invoking, calling, receiving, returning, or responding to the function calls or messages; in other words, transferring can describe actions by either of the API-calling component or the API-implementing component. The function calls or other invocations of the API may send or receive one or more parameters through a parameter list or other structure. A parameter can be a constant, key, data structure, object, object class, variable, data type, pointer, array, list or a pointer to a function or method or another way to reference a data or other item to be passed via the API.\\n[0035]Furthermore, data types or classes may be provided by the API and implemented by the API-implementing component. Thus, the API-calling component may declare variables, use pointers to, use or instantiate constant values of such types or classes by using definitions provided in the API.\\n[0036]Generally, an API can be used to access a service or data provided by the API-implementing component or to initiate performance of an operation or computation provided by the API-implementing component. By way of example, the API-implementing component and the API-calling component may each be any one of an operating system, a library, a device driver, an API, an application program, or other module (it should be understood that the API-implementing component and the API-calling component may be the same or different type of module from each other). API-implementing components may in some cases be embodied at least in part in firmware, microcode, or other hardware logic. In some examples, an API may allow a client program to use the services provided by a Software Development Kit (SDK) library. In other examples an application or other client program may use an API provided by an Application Framework. In these examples the application or client program may incorporate calls to functions or methods provided by the SDK and provided by the API or use data types or objects defined in the SDK and provided by the API. An Application Framework may in these examples provide a main event loop for a program that responds to various events defined by the Framework. The API allows the application to specify the events and the responses to the events using the Application Framework. In some implementations, an API call can report to an application the capabilities or state of a hardware device, including those related to aspects such as input capabilities and state, output capabilities and state, processing capability, power state, storage capacity and state, communications capability, etc., and the API may be implemented in part by firmware, microcode, or other low level logic that executes in part on the hardware component.\\n[0037]The API-calling component may be a local component (i.e., on the same data processing system as the API-implementing component) or a remote component (i.e., on a different data processing system from the API-implementing component) that communicates with the API-implementing component through the API over a network. It should be understood that an API-implementing component may also act as an API-calling component (i.e., it may make API calls to an API exposed by a different API-implementing component) and an API-calling component may also act as an API-implementing component by implementing an API that is exposed to a different API-calling component.\\n[0038]The API may allow multiple API-calling components written in different programming languages to communicate with the API-implementing component (thus the API may include features for translating calls and returns between the API-implementing component and the API-calling component); however the API may be implemented in terms of a specific programming language. An API-calling component can, in one example, call APIs from different providers such as a set of APIs from an OS provider and another set of APIs from a plug-in provider and another set of APIs from another provider (e.g. the provider of a software library) or creator of the another set of APIs.\\n[0039]FIG. 6 is a block diagram illustrating an exemplary API architecture, which may be used in some examples of the disclosure. As shown in FIG. 6, the API architecture 600 includes the API-implementing component 610 (e.g., an operating system, a library, a device driver, an API, an application program, software or other module) that implements the API 620. The API 620 specifies one or more functions, methods, classes, objects, protocols, data structures, formats and/or other features of the API-implementing component that may be used by the API-calling component 630. The API 620 can specify at least one calling convention that specifies how a function in the API-implementing component receives parameters from the API-calling component and how the function returns a result to the API-calling component. The API-calling component 630 (e.g., an operating system, a library, a device driver, an API, an application program, software or other module), makes API calls through the API 620 to access and use the features of the API-implementing component 610 that are specified by the API 620. The API-implementing component 610 may return a value through the API 620 to the API-calling component 630 in response to an API call.\\n[0040]It will be appreciated that the API-implementing component 610 may include additional functions, methods, classes, data structure\""
      ]
     },
     "execution_count": 7,
     "metadata": {},
     "output_type": "execute_result"
    }
   ],
   "source": [
    "apple_df.content.iloc[0]"
   ]
  },
  {
   "cell_type": "code",
   "execution_count": 11,
   "metadata": {},
   "outputs": [
    {
     "ename": "NameError",
     "evalue": "name 'other_df' is not defined",
     "output_type": "error",
     "traceback": [
      "\u001b[1;31m---------------------------------------------------------------------------\u001b[0m",
      "\u001b[1;31mNameError\u001b[0m                                 Traceback (most recent call last)",
      "Cell \u001b[1;32mIn[11], line 1\u001b[0m\n\u001b[1;32m----> 1\u001b[0m other_df\n",
      "\u001b[1;31mNameError\u001b[0m: name 'other_df' is not defined"
     ]
    }
   ],
   "source": [
    "other_df"
   ]
  },
  {
   "cell_type": "code",
   "execution_count": 1,
   "metadata": {},
   "outputs": [],
   "source": [
    "import numpy as np"
   ]
  },
  {
   "cell_type": "code",
   "execution_count": 10,
   "metadata": {},
   "outputs": [
    {
     "name": "stderr",
     "output_type": "stream",
     "text": [
      "100%|██████████| 60279/60279 [6:13:58<00:00,  2.69it/s]       \n"
     ]
    }
   ],
   "source": [
    "from tqdm import tqdm\n",
    "from glob import glob\n",
    "\n",
    "g = None\n",
    "n= 60279\n",
    "for i in tqdm(range(n)):\n",
    "    f = r\"C:\\Users\\cglog\\Desktop\\project-nlp-patent-similarity\\concat-20230323T163053Z-001\\concat\\{}.npy\".format(i)\n",
    "    tmp = np.load(f)\n",
    "    if g is None:\n",
    "        g = tmp\n",
    "    else:\n",
    "        g = np.concatenate((g, tmp), axis=0)\n"
   ]
  },
  {
   "cell_type": "code",
   "execution_count": 11,
   "metadata": {},
   "outputs": [],
   "source": [
    "np.save(\"concat.npy\", g)"
   ]
  },
  {
   "cell_type": "code",
   "execution_count": 2,
   "metadata": {},
   "outputs": [
    {
     "name": "stderr",
     "output_type": "stream",
     "text": [
      "100%|██████████| 60279/60279 [41:25<00:00, 24.26it/s]  \n"
     ]
    }
   ],
   "source": [
    "import numpy as np\n",
    "from tqdm import tqdm\n",
    "from glob import glob\n",
    "\n",
    "g = None\n",
    "n= 60279\n",
    "for i in tqdm(range(n)):\n",
    "    f = r\"C:\\Users\\cglog\\Desktop\\project-nlp-patent-similarity\\overlapping\\{}.npy\".format(i)\n",
    "    f = r\"C:\\Users\\cglog\\Desktop\\project-nlp-patent-similarity\\overlapping\\{}.npy\".format(i)\n",
    "    tmp = np.load(f)\n",
    "    if g is None:\n",
    "        g = tmp\n",
    "    else:\n",
    "        g = np.concatenate((g, tmp), axis=0)\n"
   ]
  },
  {
   "cell_type": "code",
   "execution_count": 3,
   "metadata": {},
   "outputs": [],
   "source": [
    "np.save(\"overlapping.npy\", g)"
   ]
  },
  {
   "cell_type": "code",
   "execution_count": null,
   "metadata": {},
   "outputs": [],
   "source": []
  }
 ],
 "metadata": {
  "kernelspec": {
   "display_name": "nlp-patent",
   "language": "python",
   "name": "python3"
  },
  "language_info": {
   "codemirror_mode": {
    "name": "ipython",
    "version": 3
   },
   "file_extension": ".py",
   "mimetype": "text/x-python",
   "name": "python",
   "nbconvert_exporter": "python",
   "pygments_lexer": "ipython3",
   "version": "3.7.13"
  },
  "orig_nbformat": 4,
  "vscode": {
   "interpreter": {
    "hash": "6853375e564c37824efdcef3c11c03dbd91d1b40beaeaacb52099dd57446684d"
   }
  }
 },
 "nbformat": 4,
 "nbformat_minor": 2
}
