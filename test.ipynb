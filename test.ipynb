{
 "cells": [
  {
   "cell_type": "code",
   "execution_count": 1,
   "metadata": {},
   "outputs": [],
   "source": [
    "from PatentModel import PatentModel"
   ]
  },
  {
   "cell_type": "code",
   "execution_count": 2,
   "metadata": {},
   "outputs": [
    {
     "name": "stderr",
     "output_type": "stream",
     "text": [
      "Some weights of the model checkpoint at anferico/bert-for-patents were not used when initializing BertModel: ['cls.predictions.decoder.weight', 'cls.predictions.transform.LayerNorm.bias', 'cls.seq_relationship.weight', 'cls.seq_relationship.bias', 'cls.predictions.transform.dense.weight', 'cls.predictions.bias', 'cls.predictions.transform.LayerNorm.weight', 'cls.predictions.transform.dense.bias', 'cls.predictions.decoder.bias']\n",
      "- This IS expected if you are initializing BertModel from the checkpoint of a model trained on another task or with another architecture (e.g. initializing a BertForSequenceClassification model from a BertForPreTraining model).\n",
      "- This IS NOT expected if you are initializing BertModel from the checkpoint of a model that you expect to be exactly identical (initializing a BertForSequenceClassification model from a BertForSequenceClassification model).\n"
     ]
    }
   ],
   "source": [
    "model = PatentModel()"
   ]
  },
  {
   "cell_type": "code",
   "execution_count": 3,
   "metadata": {},
   "outputs": [],
   "source": [
    "import pandas as pd"
   ]
  },
  {
   "cell_type": "code",
   "execution_count": 5,
   "metadata": {},
   "outputs": [
    {
     "data": {
      "text/plain": [
       "1000"
      ]
     },
     "execution_count": 5,
     "metadata": {},
     "output_type": "execute_result"
    }
   ],
   "source": [
    "df = pd.read_excel(\"./data/A61B005專利_2005-2007.xlsx\")\n",
    "len(df)"
   ]
  },
  {
   "cell_type": "code",
   "execution_count": 6,
   "metadata": {},
   "outputs": [
    {
     "data": {
      "text/html": [
       "<div>\n",
       "<style scoped>\n",
       "    .dataframe tbody tr th:only-of-type {\n",
       "        vertical-align: middle;\n",
       "    }\n",
       "\n",
       "    .dataframe tbody tr th {\n",
       "        vertical-align: top;\n",
       "    }\n",
       "\n",
       "    .dataframe thead th {\n",
       "        text-align: right;\n",
       "    }\n",
       "</style>\n",
       "<table border=\"1\" class=\"dataframe\">\n",
       "  <thead>\n",
       "    <tr style=\"text-align: right;\">\n",
       "      <th></th>\n",
       "      <th>公告(開)號</th>\n",
       "      <th>KindCode</th>\n",
       "      <th>公告(開)日</th>\n",
       "      <th>名稱</th>\n",
       "      <th>申請日</th>\n",
       "      <th>摘要</th>\n",
       "      <th>申請範圍1</th>\n",
       "      <th>申請範圍</th>\n",
       "      <th>專利權人</th>\n",
       "      <th>IPC</th>\n",
       "    </tr>\n",
       "  </thead>\n",
       "  <tbody>\n",
       "    <tr>\n",
       "      <th>0</th>\n",
       "      <td>US06925326</td>\n",
       "      <td>B1</td>\n",
       "      <td>2005-08-02</td>\n",
       "      <td>Implantable cardiac stimulation system and met...</td>\n",
       "      <td>2002-01-04</td>\n",
       "      <td>An implantable cardiac stimulation device and ...</td>\n",
       "      <td>1. A method for setting an atrioventricular de...</td>\n",
       "      <td>1. A method for setting an atrioventricular de...</td>\n",
       "      <td>Pacesetter, Inc.</td>\n",
       "      <td>A61B005/04</td>\n",
       "    </tr>\n",
       "    <tr>\n",
       "      <th>1</th>\n",
       "      <td>US06935889</td>\n",
       "      <td>B2</td>\n",
       "      <td>2005-08-30</td>\n",
       "      <td>Electrode-pad package that is removable from a...</td>\n",
       "      <td>2001-02-28</td>\n",
       "      <td>A package stores at least one electrode pad ha...</td>\n",
       "      <td>1. An electrode-pad storage system, comprising...</td>\n",
       "      <td>1. An electrode-pad storage system, comprising...</td>\n",
       "      <td>Koninklijke Philips Electronics N.V.</td>\n",
       "      <td>H01R013/52\\nB65D081/124\\nA61B005/04</td>\n",
       "    </tr>\n",
       "    <tr>\n",
       "      <th>2</th>\n",
       "      <td>US06944496</td>\n",
       "      <td>B2</td>\n",
       "      <td>2005-09-13</td>\n",
       "      <td>Apparatus for positioning and marking a locati...</td>\n",
       "      <td>2002-03-13</td>\n",
       "      <td>An apparatus for positioning and marking a loc...</td>\n",
       "      <td>1. An apparatus for positioning and marking a ...</td>\n",
       "      <td>1. An apparatus for positioning and marking a ...</td>\n",
       "      <td>Electronics and Telecommunications Research In...</td>\n",
       "      <td>A61B005/0488</td>\n",
       "    </tr>\n",
       "    <tr>\n",
       "      <th>3</th>\n",
       "      <td>US06957097</td>\n",
       "      <td>B2</td>\n",
       "      <td>2005-10-18</td>\n",
       "      <td>Rapid measurement of time-averaged blood flow ...</td>\n",
       "      <td>2002-04-17</td>\n",
       "      <td>Pulsatile flow is measured using magnetic reso...</td>\n",
       "      <td>1. A method of imaging pulsatile blood flow in...</td>\n",
       "      <td>1. A method of imaging pulsatile blood flow in...</td>\n",
       "      <td>The Board of Trustees of the Leland Stanford J...</td>\n",
       "      <td>A61B005/05</td>\n",
       "    </tr>\n",
       "    <tr>\n",
       "      <th>4</th>\n",
       "      <td>US07123954</td>\n",
       "      <td>B2</td>\n",
       "      <td>2006-10-17</td>\n",
       "      <td>Method for classifying and localizing heart ar...</td>\n",
       "      <td>2002-12-18</td>\n",
       "      <td>Analyzes surface electrocardiographic and intr...</td>\n",
       "      <td>1. A method of analyzing a cardiac signal, com...</td>\n",
       "      <td>1. A method of analyzing a cardiac signal, com...</td>\n",
       "      <td>-</td>\n",
       "      <td>A61B005/046</td>\n",
       "    </tr>\n",
       "  </tbody>\n",
       "</table>\n",
       "</div>"
      ],
      "text/plain": [
       "       公告(開)號 KindCode      公告(開)日  \\\n",
       "0  US06925326       B1  2005-08-02   \n",
       "1  US06935889       B2  2005-08-30   \n",
       "2  US06944496       B2  2005-09-13   \n",
       "3  US06957097       B2  2005-10-18   \n",
       "4  US07123954       B2  2006-10-17   \n",
       "\n",
       "                                                  名稱         申請日  \\\n",
       "0  Implantable cardiac stimulation system and met...  2002-01-04   \n",
       "1  Electrode-pad package that is removable from a...  2001-02-28   \n",
       "2  Apparatus for positioning and marking a locati...  2002-03-13   \n",
       "3  Rapid measurement of time-averaged blood flow ...  2002-04-17   \n",
       "4  Method for classifying and localizing heart ar...  2002-12-18   \n",
       "\n",
       "                                                  摘要  \\\n",
       "0  An implantable cardiac stimulation device and ...   \n",
       "1  A package stores at least one electrode pad ha...   \n",
       "2  An apparatus for positioning and marking a loc...   \n",
       "3  Pulsatile flow is measured using magnetic reso...   \n",
       "4  Analyzes surface electrocardiographic and intr...   \n",
       "\n",
       "                                               申請範圍1  \\\n",
       "0  1. A method for setting an atrioventricular de...   \n",
       "1  1. An electrode-pad storage system, comprising...   \n",
       "2  1. An apparatus for positioning and marking a ...   \n",
       "3  1. A method of imaging pulsatile blood flow in...   \n",
       "4  1. A method of analyzing a cardiac signal, com...   \n",
       "\n",
       "                                                申請範圍  \\\n",
       "0  1. A method for setting an atrioventricular de...   \n",
       "1  1. An electrode-pad storage system, comprising...   \n",
       "2  1. An apparatus for positioning and marking a ...   \n",
       "3  1. A method of imaging pulsatile blood flow in...   \n",
       "4  1. A method of analyzing a cardiac signal, com...   \n",
       "\n",
       "                                                專利權人  \\\n",
       "0                                   Pacesetter, Inc.   \n",
       "1               Koninklijke Philips Electronics N.V.   \n",
       "2  Electronics and Telecommunications Research In...   \n",
       "3  The Board of Trustees of the Leland Stanford J...   \n",
       "4                                                  -   \n",
       "\n",
       "                                   IPC  \n",
       "0                           A61B005/04  \n",
       "1  H01R013/52\\nB65D081/124\\nA61B005/04  \n",
       "2                         A61B005/0488  \n",
       "3                           A61B005/05  \n",
       "4                          A61B005/046  "
      ]
     },
     "execution_count": 6,
     "metadata": {},
     "output_type": "execute_result"
    }
   ],
   "source": [
    "df.head()"
   ]
  },
  {
   "cell_type": "code",
   "execution_count": 7,
   "metadata": {},
   "outputs": [
    {
     "data": {
      "text/plain": [
       "'1. A method for setting an atrioventricular delay in a cardiac stimulation device, the method comprising:\\nmonitoring for atrial events;adjusting an atrioventricular delay until an intrinsic ventricular event is detected;maintaining the adjusted atrioventricular delay for a predetermined number of cardiac cycles; andstoring the adjusted atrioventricular delay if at least a predetermined percentage of ventricular events during the predetermined number of cardiac cycles comprise intrinsic ventricular events.'"
      ]
     },
     "execution_count": 7,
     "metadata": {},
     "output_type": "execute_result"
    }
   ],
   "source": [
    "df['申請範圍1'].iloc[0]"
   ]
  },
  {
   "cell_type": "code",
   "execution_count": null,
   "metadata": {},
   "outputs": [],
   "source": []
  },
  {
   "cell_type": "code",
   "execution_count": 8,
   "metadata": {},
   "outputs": [],
   "source": [
    "df['sentence_len'] = df['申請範圍1'].apply(lambda x: len(x.split(' ')))"
   ]
  },
  {
   "cell_type": "code",
   "execution_count": 22,
   "metadata": {},
   "outputs": [
    {
     "data": {
      "text/plain": [
       "count    1000.000000\n",
       "mean      141.969000\n",
       "std        75.986894\n",
       "min         1.000000\n",
       "25%        89.000000\n",
       "50%       126.000000\n",
       "75%       173.250000\n",
       "max       540.000000\n",
       "Name: sentence_len, dtype: float64"
      ]
     },
     "execution_count": 22,
     "metadata": {},
     "output_type": "execute_result"
    }
   ],
   "source": [
    "df['sentence_len'].describe()"
   ]
  },
  {
   "cell_type": "code",
   "execution_count": 13,
   "metadata": {},
   "outputs": [
    {
     "data": {
      "text/plain": [
       "<matplotlib.axes._subplots.AxesSubplot at 0x1f40d102a48>"
      ]
     },
     "execution_count": 13,
     "metadata": {},
     "output_type": "execute_result"
    },
    {
     "data": {
      "image/png": "[encoded data removed]",
      "text/plain": [
       "<Figure size 432x288 with 1 Axes>"
      ]
     },
     "metadata": {
      "needs_background": "light"
     },
     "output_type": "display_data"
    }
   ],
   "source": [
    "df['sentence_len'].plot.box()"
   ]
  },
  {
   "cell_type": "code",
   "execution_count": 14,
   "metadata": {},
   "outputs": [
    {
     "data": {
      "text/plain": [
       "'1. A method for setting an atrioventricular delay in a cardiac stimulation device, the method comprising:\\nmonitoring for atrial events;adjusting an atrioventricular delay until an intrinsic ventricular event is detected;maintaining the adjusted atrioventricular delay for a predetermined number of cardiac cycles; andstoring the adjusted atrioventricular delay if at least a predetermined percentage of ventricular events during the predetermined number of cardiac cycles comprise intrinsic ventricular events.'"
      ]
     },
     "execution_count": 14,
     "metadata": {},
     "output_type": "execute_result"
    }
   ],
   "source": [
    "df['申請範圍1'].iloc[0]"
   ]
  },
  {
   "cell_type": "code",
   "execution_count": 17,
   "metadata": {},
   "outputs": [
    {
     "data": {
      "text/plain": [
       "65"
      ]
     },
     "execution_count": 17,
     "metadata": {},
     "output_type": "execute_result"
    }
   ],
   "source": [
    "df['sentence_len'].iloc[0]"
   ]
  },
  {
   "cell_type": "code",
   "execution_count": 21,
   "metadata": {},
   "outputs": [
    {
     "data": {
      "text/plain": [
       "{'input_ids': [2, 1020, 1017, 1042, 3783, 1670, 3957, 1684, 35854, 8201, 1664, 1042, 14715, 20523, 4745, 1015, 1661, 3783, 9270, 1029, 8487, 1670, 31452, 2489, 1030, 18823, 1684, 35854, 8201, 1792, 1684, 23472, 31294, 2389, 1668, 10821, 1030, 8163, 1661, 10091, 35854, 8201, 1670, 1042, 29847, 1858, 1662, 14715, 12374, 1030, 1663, 23474, 1740, 1661, 10091, 35854, 8201, 1730, 1677, 2225, 1042, 29847, 6682, 1662, 31294, 2489, 1741, 1661, 29847, 1858, 1662, 14715, 12374, 15486, 23472, 31294, 2489, 1017, 3], 'token_type_ids': [0, 0, 0, 0, 0, 0, 0, 0, 0, 0, 0, 0, 0, 0, 0, 0, 0, 0, 0, 0, 0, 0, 0, 0, 0, 0, 0, 0, 0, 0, 0, 0, 0, 0, 0, 0, 0, 0, 0, 0, 0, 0, 0, 0, 0, 0, 0, 0, 0, 0, 0, 0, 0, 0, 0, 0, 0, 0, 0, 0, 0, 0, 0, 0, 0, 0, 0, 0, 0, 0, 0, 0, 0, 0, 0, 0, 0, 0, 0], 'attention_mask': [1, 1, 1, 1, 1, 1, 1, 1, 1, 1, 1, 1, 1, 1, 1, 1, 1, 1, 1, 1, 1, 1, 1, 1, 1, 1, 1, 1, 1, 1, 1, 1, 1, 1, 1, 1, 1, 1, 1, 1, 1, 1, 1, 1, 1, 1, 1, 1, 1, 1, 1, 1, 1, 1, 1, 1, 1, 1, 1, 1, 1, 1, 1, 1, 1, 1, 1, 1, 1, 1, 1, 1, 1, 1, 1, 1, 1, 1, 1]}"
      ]
     },
     "execution_count": 21,
     "metadata": {},
     "output_type": "execute_result"
    }
   ],
   "source": [
    "model.tokenizer(df['申請範圍1'].iloc[0])"
   ]
  },
  {
   "cell_type": "code",
   "execution_count": 23,
   "metadata": {},
   "outputs": [],
   "source": [
    "from sklearn.metrics.pairwise import cosine_similarity"
   ]
  },
  {
   "cell_type": "code",
   "execution_count": 27,
   "metadata": {},
   "outputs": [],
   "source": [
    "t1 = df.iloc[0]['申請範圍1']\n",
    "t2 = df.iloc[1]['申請範圍1']\n",
    "\n",
    "\n",
    "t1_emb = model.embedding(t1)\n",
    "t2_emb = model.embedding(t2)\n"
   ]
  },
  {
   "cell_type": "code",
   "execution_count": 34,
   "metadata": {},
   "outputs": [
    {
     "data": {
      "text/plain": [
       "array([[-0.7387649 , -1.5866762 ,  1.8659035 , ..., -0.7375386 ,\n",
       "         0.69693804, -1.2285701 ]], dtype=float32)"
      ]
     },
     "execution_count": 34,
     "metadata": {},
     "output_type": "execute_result"
    }
   ],
   "source": [
    "t1_emb"
   ]
  },
  {
   "cell_type": "code",
   "execution_count": 31,
   "metadata": {},
   "outputs": [
    {
     "data": {
      "text/plain": [
       "0.518836"
      ]
     },
     "execution_count": 31,
     "metadata": {},
     "output_type": "execute_result"
    }
   ],
   "source": [
    "cosine_similarity(t1_emb, t2_emb)[0][0]"
   ]
  }
 ],
 "metadata": {
  "kernelspec": {
   "display_name": "torch",
   "language": "python",
   "name": "python3"
  },
  "language_info": {
   "codemirror_mode": {
    "name": "ipython",
    "version": 3
   },
   "file_extension": ".py",
   "mimetype": "text/x-python",
   "name": "python",
   "nbconvert_exporter": "python",
   "pygments_lexer": "ipython3",
   "version": "3.7.13"
  },
  "orig_nbformat": 4,
  "vscode": {
   "interpreter": {
    "hash": "170762d7d3b3a4ea23ce9bbf9f833429f837955d29218776897c7f8c90a19c05"
   }
  }
 },
 "nbformat": 4,
 "nbformat_minor": 2
}
